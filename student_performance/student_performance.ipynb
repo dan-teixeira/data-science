{
 "cells": [
  {
   "cell_type": "markdown",
   "metadata": {},
   "source": [
    "## Imports"
   ]
  },
  {
   "cell_type": "code",
   "execution_count": 1,
   "metadata": {},
   "outputs": [],
   "source": [
    "import pandas as pd\n",
    "import numpy as np\n",
    "from pingouin import rcorr\n",
    "import matplotlib.pyplot as plt\n",
    "import seaborn as sns\n",
    "import statsmodels.formula.api as smf\n",
    "from statsmodels.iolib.summary2 import summary_col\n",
    "from utils.formatting import normalize_string, get_formula\n",
    "from scipy.stats import norm\n",
    "from statstests.tests import shapiro_francia"
   ]
  },
  {
   "cell_type": "markdown",
   "metadata": {},
   "source": [
    "## Loading Files"
   ]
  },
  {
   "cell_type": "code",
   "execution_count": 2,
   "metadata": {},
   "outputs": [],
   "source": [
    "df_student = pd.read_csv(\"datasets/student_performance.csv\")"
   ]
  },
  {
   "cell_type": "code",
   "execution_count": 3,
   "metadata": {},
   "outputs": [
    {
     "data": {
      "text/html": [
       "<div>\n",
       "<style scoped>\n",
       "    .dataframe tbody tr th:only-of-type {\n",
       "        vertical-align: middle;\n",
       "    }\n",
       "\n",
       "    .dataframe tbody tr th {\n",
       "        vertical-align: top;\n",
       "    }\n",
       "\n",
       "    .dataframe thead th {\n",
       "        text-align: right;\n",
       "    }\n",
       "</style>\n",
       "<table border=\"1\" class=\"dataframe\">\n",
       "  <thead>\n",
       "    <tr style=\"text-align: right;\">\n",
       "      <th></th>\n",
       "      <th>Hours Studied</th>\n",
       "      <th>Previous Scores</th>\n",
       "      <th>Extracurricular Activities</th>\n",
       "      <th>Sleep Hours</th>\n",
       "      <th>Sample Question Papers Practiced</th>\n",
       "      <th>Performance Index</th>\n",
       "    </tr>\n",
       "  </thead>\n",
       "  <tbody>\n",
       "    <tr>\n",
       "      <th>0</th>\n",
       "      <td>7</td>\n",
       "      <td>99</td>\n",
       "      <td>Yes</td>\n",
       "      <td>9</td>\n",
       "      <td>1</td>\n",
       "      <td>91.0</td>\n",
       "    </tr>\n",
       "    <tr>\n",
       "      <th>1</th>\n",
       "      <td>4</td>\n",
       "      <td>82</td>\n",
       "      <td>No</td>\n",
       "      <td>4</td>\n",
       "      <td>2</td>\n",
       "      <td>65.0</td>\n",
       "    </tr>\n",
       "    <tr>\n",
       "      <th>2</th>\n",
       "      <td>8</td>\n",
       "      <td>51</td>\n",
       "      <td>Yes</td>\n",
       "      <td>7</td>\n",
       "      <td>2</td>\n",
       "      <td>45.0</td>\n",
       "    </tr>\n",
       "    <tr>\n",
       "      <th>3</th>\n",
       "      <td>5</td>\n",
       "      <td>52</td>\n",
       "      <td>Yes</td>\n",
       "      <td>5</td>\n",
       "      <td>2</td>\n",
       "      <td>36.0</td>\n",
       "    </tr>\n",
       "    <tr>\n",
       "      <th>4</th>\n",
       "      <td>7</td>\n",
       "      <td>75</td>\n",
       "      <td>No</td>\n",
       "      <td>8</td>\n",
       "      <td>5</td>\n",
       "      <td>66.0</td>\n",
       "    </tr>\n",
       "    <tr>\n",
       "      <th>...</th>\n",
       "      <td>...</td>\n",
       "      <td>...</td>\n",
       "      <td>...</td>\n",
       "      <td>...</td>\n",
       "      <td>...</td>\n",
       "      <td>...</td>\n",
       "    </tr>\n",
       "    <tr>\n",
       "      <th>9995</th>\n",
       "      <td>1</td>\n",
       "      <td>49</td>\n",
       "      <td>Yes</td>\n",
       "      <td>4</td>\n",
       "      <td>2</td>\n",
       "      <td>23.0</td>\n",
       "    </tr>\n",
       "    <tr>\n",
       "      <th>9996</th>\n",
       "      <td>7</td>\n",
       "      <td>64</td>\n",
       "      <td>Yes</td>\n",
       "      <td>8</td>\n",
       "      <td>5</td>\n",
       "      <td>58.0</td>\n",
       "    </tr>\n",
       "    <tr>\n",
       "      <th>9997</th>\n",
       "      <td>6</td>\n",
       "      <td>83</td>\n",
       "      <td>Yes</td>\n",
       "      <td>8</td>\n",
       "      <td>5</td>\n",
       "      <td>74.0</td>\n",
       "    </tr>\n",
       "    <tr>\n",
       "      <th>9998</th>\n",
       "      <td>9</td>\n",
       "      <td>97</td>\n",
       "      <td>Yes</td>\n",
       "      <td>7</td>\n",
       "      <td>0</td>\n",
       "      <td>95.0</td>\n",
       "    </tr>\n",
       "    <tr>\n",
       "      <th>9999</th>\n",
       "      <td>7</td>\n",
       "      <td>74</td>\n",
       "      <td>No</td>\n",
       "      <td>8</td>\n",
       "      <td>1</td>\n",
       "      <td>64.0</td>\n",
       "    </tr>\n",
       "  </tbody>\n",
       "</table>\n",
       "<p>10000 rows × 6 columns</p>\n",
       "</div>"
      ],
      "text/plain": [
       "      Hours Studied  Previous Scores Extracurricular Activities  Sleep Hours  \\\n",
       "0                 7               99                        Yes            9   \n",
       "1                 4               82                         No            4   \n",
       "2                 8               51                        Yes            7   \n",
       "3                 5               52                        Yes            5   \n",
       "4                 7               75                         No            8   \n",
       "...             ...              ...                        ...          ...   \n",
       "9995              1               49                        Yes            4   \n",
       "9996              7               64                        Yes            8   \n",
       "9997              6               83                        Yes            8   \n",
       "9998              9               97                        Yes            7   \n",
       "9999              7               74                         No            8   \n",
       "\n",
       "      Sample Question Papers Practiced  Performance Index  \n",
       "0                                    1               91.0  \n",
       "1                                    2               65.0  \n",
       "2                                    2               45.0  \n",
       "3                                    2               36.0  \n",
       "4                                    5               66.0  \n",
       "...                                ...                ...  \n",
       "9995                                 2               23.0  \n",
       "9996                                 5               58.0  \n",
       "9997                                 5               74.0  \n",
       "9998                                 0               95.0  \n",
       "9999                                 1               64.0  \n",
       "\n",
       "[10000 rows x 6 columns]"
      ]
     },
     "execution_count": 3,
     "metadata": {},
     "output_type": "execute_result"
    }
   ],
   "source": [
    "# Dataset Visualization\n",
    "df_student"
   ]
  },
  {
   "cell_type": "code",
   "execution_count": 4,
   "metadata": {},
   "outputs": [
    {
     "data": {
      "text/plain": [
       "Index(['hours_studied', 'previous_scores', 'extracurricular_activities',\n",
       "       'sleep_hours', 'sample_question_papers_practiced', 'performance_index'],\n",
       "      dtype='object')"
      ]
     },
     "execution_count": 4,
     "metadata": {},
     "output_type": "execute_result"
    }
   ],
   "source": [
    "# Formatting DataFrame columns to simplify interactions\n",
    "df_student.columns = normalize_string(df_student.columns)\n",
    "df_student.columns"
   ]
  },
  {
   "cell_type": "code",
   "execution_count": 5,
   "metadata": {},
   "outputs": [
    {
     "name": "stdout",
     "output_type": "stream",
     "text": [
      "<class 'pandas.core.frame.DataFrame'>\n",
      "RangeIndex: 10000 entries, 0 to 9999\n",
      "Data columns (total 6 columns):\n",
      " #   Column                            Non-Null Count  Dtype  \n",
      "---  ------                            --------------  -----  \n",
      " 0   hours_studied                     10000 non-null  int64  \n",
      " 1   previous_scores                   10000 non-null  int64  \n",
      " 2   extracurricular_activities        10000 non-null  object \n",
      " 3   sleep_hours                       10000 non-null  int64  \n",
      " 4   sample_question_papers_practiced  10000 non-null  int64  \n",
      " 5   performance_index                 10000 non-null  float64\n",
      "dtypes: float64(1), int64(4), object(1)\n",
      "memory usage: 468.9+ KB\n"
     ]
    }
   ],
   "source": [
    "# Inspecting DataFrame structure\n",
    "df_student.info()"
   ]
  },
  {
   "cell_type": "code",
   "execution_count": null,
   "metadata": {},
   "outputs": [
    {
     "name": "stdout",
     "output_type": "stream",
     "text": [
      "Number of rows with missing values: 0\n"
     ]
    }
   ],
   "source": [
    "# Checking for missing values (NA) in rows\n",
    "na_count = df_student.isna().any(axis=1).sum()\n",
    "print(f\"Number of rows with missing values: {na_count}\")"
   ]
  },
  {
   "cell_type": "markdown",
   "metadata": {},
   "source": [
    "## Descriptive Statistics\n",
    "> * Analysing the distribution of the dataset variables"
   ]
  },
  {
   "cell_type": "code",
   "execution_count": 7,
   "metadata": {},
   "outputs": [
    {
     "data": {
      "text/html": [
       "<div>\n",
       "<style scoped>\n",
       "    .dataframe tbody tr th:only-of-type {\n",
       "        vertical-align: middle;\n",
       "    }\n",
       "\n",
       "    .dataframe tbody tr th {\n",
       "        vertical-align: top;\n",
       "    }\n",
       "\n",
       "    .dataframe thead th {\n",
       "        text-align: right;\n",
       "    }\n",
       "</style>\n",
       "<table border=\"1\" class=\"dataframe\">\n",
       "  <thead>\n",
       "    <tr style=\"text-align: right;\">\n",
       "      <th></th>\n",
       "      <th>extracurricular_activities</th>\n",
       "    </tr>\n",
       "  </thead>\n",
       "  <tbody>\n",
       "    <tr>\n",
       "      <th>count</th>\n",
       "      <td>10000</td>\n",
       "    </tr>\n",
       "    <tr>\n",
       "      <th>unique</th>\n",
       "      <td>2</td>\n",
       "    </tr>\n",
       "    <tr>\n",
       "      <th>top</th>\n",
       "      <td>No</td>\n",
       "    </tr>\n",
       "    <tr>\n",
       "      <th>freq</th>\n",
       "      <td>5052</td>\n",
       "    </tr>\n",
       "  </tbody>\n",
       "</table>\n",
       "</div>"
      ],
      "text/plain": [
       "       extracurricular_activities\n",
       "count                       10000\n",
       "unique                          2\n",
       "top                            No\n",
       "freq                         5052"
      ]
     },
     "execution_count": 7,
     "metadata": {},
     "output_type": "execute_result"
    }
   ],
   "source": [
    "# Non-numeric variables\n",
    "df_student.select_dtypes(include=object).describe()"
   ]
  },
  {
   "cell_type": "code",
   "execution_count": 8,
   "metadata": {},
   "outputs": [
    {
     "data": {
      "text/html": [
       "<div>\n",
       "<style scoped>\n",
       "    .dataframe tbody tr th:only-of-type {\n",
       "        vertical-align: middle;\n",
       "    }\n",
       "\n",
       "    .dataframe tbody tr th {\n",
       "        vertical-align: top;\n",
       "    }\n",
       "\n",
       "    .dataframe thead th {\n",
       "        text-align: right;\n",
       "    }\n",
       "</style>\n",
       "<table border=\"1\" class=\"dataframe\">\n",
       "  <thead>\n",
       "    <tr style=\"text-align: right;\">\n",
       "      <th></th>\n",
       "      <th>hours_studied</th>\n",
       "      <th>previous_scores</th>\n",
       "      <th>sleep_hours</th>\n",
       "      <th>sample_question_papers_practiced</th>\n",
       "      <th>performance_index</th>\n",
       "    </tr>\n",
       "  </thead>\n",
       "  <tbody>\n",
       "    <tr>\n",
       "      <th>count</th>\n",
       "      <td>10000.000000</td>\n",
       "      <td>10000.000000</td>\n",
       "      <td>10000.000000</td>\n",
       "      <td>10000.000000</td>\n",
       "      <td>10000.000000</td>\n",
       "    </tr>\n",
       "    <tr>\n",
       "      <th>mean</th>\n",
       "      <td>4.992900</td>\n",
       "      <td>69.445700</td>\n",
       "      <td>6.530600</td>\n",
       "      <td>4.583300</td>\n",
       "      <td>55.224800</td>\n",
       "    </tr>\n",
       "    <tr>\n",
       "      <th>std</th>\n",
       "      <td>2.589309</td>\n",
       "      <td>17.343152</td>\n",
       "      <td>1.695863</td>\n",
       "      <td>2.867348</td>\n",
       "      <td>19.212558</td>\n",
       "    </tr>\n",
       "    <tr>\n",
       "      <th>min</th>\n",
       "      <td>1.000000</td>\n",
       "      <td>40.000000</td>\n",
       "      <td>4.000000</td>\n",
       "      <td>0.000000</td>\n",
       "      <td>10.000000</td>\n",
       "    </tr>\n",
       "    <tr>\n",
       "      <th>25%</th>\n",
       "      <td>3.000000</td>\n",
       "      <td>54.000000</td>\n",
       "      <td>5.000000</td>\n",
       "      <td>2.000000</td>\n",
       "      <td>40.000000</td>\n",
       "    </tr>\n",
       "    <tr>\n",
       "      <th>50%</th>\n",
       "      <td>5.000000</td>\n",
       "      <td>69.000000</td>\n",
       "      <td>7.000000</td>\n",
       "      <td>5.000000</td>\n",
       "      <td>55.000000</td>\n",
       "    </tr>\n",
       "    <tr>\n",
       "      <th>75%</th>\n",
       "      <td>7.000000</td>\n",
       "      <td>85.000000</td>\n",
       "      <td>8.000000</td>\n",
       "      <td>7.000000</td>\n",
       "      <td>71.000000</td>\n",
       "    </tr>\n",
       "    <tr>\n",
       "      <th>max</th>\n",
       "      <td>9.000000</td>\n",
       "      <td>99.000000</td>\n",
       "      <td>9.000000</td>\n",
       "      <td>9.000000</td>\n",
       "      <td>100.000000</td>\n",
       "    </tr>\n",
       "  </tbody>\n",
       "</table>\n",
       "</div>"
      ],
      "text/plain": [
       "       hours_studied  previous_scores   sleep_hours  \\\n",
       "count   10000.000000     10000.000000  10000.000000   \n",
       "mean        4.992900        69.445700      6.530600   \n",
       "std         2.589309        17.343152      1.695863   \n",
       "min         1.000000        40.000000      4.000000   \n",
       "25%         3.000000        54.000000      5.000000   \n",
       "50%         5.000000        69.000000      7.000000   \n",
       "75%         7.000000        85.000000      8.000000   \n",
       "max         9.000000        99.000000      9.000000   \n",
       "\n",
       "       sample_question_papers_practiced  performance_index  \n",
       "count                      10000.000000       10000.000000  \n",
       "mean                           4.583300          55.224800  \n",
       "std                            2.867348          19.212558  \n",
       "min                            0.000000          10.000000  \n",
       "25%                            2.000000          40.000000  \n",
       "50%                            5.000000          55.000000  \n",
       "75%                            7.000000          71.000000  \n",
       "max                            9.000000         100.000000  "
      ]
     },
     "execution_count": 8,
     "metadata": {},
     "output_type": "execute_result"
    }
   ],
   "source": [
    "# Numeric variables\n",
    "df_student.describe()"
   ]
  },
  {
   "cell_type": "code",
   "execution_count": 9,
   "metadata": {},
   "outputs": [
    {
     "data": {
      "text/plain": [
       "([0, 1, 2, 3, 4],\n",
       " [Text(0, 0, 'hours_studied'),\n",
       "  Text(1, 0, 'previous_scores'),\n",
       "  Text(2, 0, 'sleep_hours'),\n",
       "  Text(3, 0, 'sample_question_papers_practiced'),\n",
       "  Text(4, 0, 'performance_index')])"
      ]
     },
     "execution_count": 9,
     "metadata": {},
     "output_type": "execute_result"
    },
    {
     "data": {
      "image/png": "[encoded data removed]",
      "text/plain": [
       "<Figure size 1440x640 with 1 Axes>"
      ]
     },
     "metadata": {},
     "output_type": "display_data"
    }
   ],
   "source": [
    "# Box-plot visualization for numeric variables\n",
    "plt.figure(figsize=(18,8), dpi=80)\n",
    "\n",
    "sns.boxplot(\n",
    "    data=df_student,\n",
    "    showmeans=True,\n",
    "    meanprops={\n",
    "        \"marker\":\"x\",\n",
    "        \"markeredgecolor\":\"black\",\n",
    "        \"markersize\":8\n",
    "    }\n",
    ")\n",
    "\n",
    "plt.xticks(rotation=30, size=12)"
   ]
  },
  {
   "cell_type": "markdown",
   "metadata": {},
   "source": [
    "> * Correlation helps to understand the association degree between two variables and provides insights that can help explain some models' behavior and patterns, such as multicollinearity (the removal of variables caused by redundancy)."
   ]
  },
  {
   "cell_type": "code",
   "execution_count": 10,
   "metadata": {},
   "outputs": [
    {
     "data": {
      "text/html": [
       "<div>\n",
       "<style scoped>\n",
       "    .dataframe tbody tr th:only-of-type {\n",
       "        vertical-align: middle;\n",
       "    }\n",
       "\n",
       "    .dataframe tbody tr th {\n",
       "        vertical-align: top;\n",
       "    }\n",
       "\n",
       "    .dataframe thead th {\n",
       "        text-align: right;\n",
       "    }\n",
       "</style>\n",
       "<table border=\"1\" class=\"dataframe\">\n",
       "  <thead>\n",
       "    <tr style=\"text-align: right;\">\n",
       "      <th></th>\n",
       "      <th>hours_studied</th>\n",
       "      <th>previous_scores</th>\n",
       "      <th>sleep_hours</th>\n",
       "      <th>sample_question_papers_practiced</th>\n",
       "      <th>performance_index</th>\n",
       "    </tr>\n",
       "  </thead>\n",
       "  <tbody>\n",
       "    <tr>\n",
       "      <th>hours_studied</th>\n",
       "      <td>-</td>\n",
       "      <td></td>\n",
       "      <td></td>\n",
       "      <td>*</td>\n",
       "      <td>***</td>\n",
       "    </tr>\n",
       "    <tr>\n",
       "      <th>previous_scores</th>\n",
       "      <td>-0.012</td>\n",
       "      <td>-</td>\n",
       "      <td></td>\n",
       "      <td></td>\n",
       "      <td>***</td>\n",
       "    </tr>\n",
       "    <tr>\n",
       "      <th>sleep_hours</th>\n",
       "      <td>0.001</td>\n",
       "      <td>0.006</td>\n",
       "      <td>-</td>\n",
       "      <td></td>\n",
       "      <td>***</td>\n",
       "    </tr>\n",
       "    <tr>\n",
       "      <th>sample_question_papers_practiced</th>\n",
       "      <td>0.017</td>\n",
       "      <td>0.008</td>\n",
       "      <td>0.004</td>\n",
       "      <td>-</td>\n",
       "      <td>***</td>\n",
       "    </tr>\n",
       "    <tr>\n",
       "      <th>performance_index</th>\n",
       "      <td>0.374</td>\n",
       "      <td>0.915</td>\n",
       "      <td>0.048</td>\n",
       "      <td>0.043</td>\n",
       "      <td>-</td>\n",
       "    </tr>\n",
       "  </tbody>\n",
       "</table>\n",
       "</div>"
      ],
      "text/plain": [
       "                                 hours_studied previous_scores sleep_hours  \\\n",
       "hours_studied                                -                               \n",
       "previous_scores                         -0.012               -               \n",
       "sleep_hours                              0.001           0.006           -   \n",
       "sample_question_papers_practiced         0.017           0.008       0.004   \n",
       "performance_index                        0.374           0.915       0.048   \n",
       "\n",
       "                                 sample_question_papers_practiced  \\\n",
       "hours_studied                                                   *   \n",
       "previous_scores                                                     \n",
       "sleep_hours                                                         \n",
       "sample_question_papers_practiced                                -   \n",
       "performance_index                                           0.043   \n",
       "\n",
       "                                 performance_index  \n",
       "hours_studied                                  ***  \n",
       "previous_scores                                ***  \n",
       "sleep_hours                                    ***  \n",
       "sample_question_papers_practiced               ***  \n",
       "performance_index                                -  "
      ]
     },
     "execution_count": 10,
     "metadata": {},
     "output_type": "execute_result"
    }
   ],
   "source": [
    "rcorr(\n",
    "    df_student,\n",
    "    method=\"pearson\",\n",
    "    upper=\"pval\",\n",
    "    stars=True,\n",
    "    pval_stars={0.01: \"***\", 0.05: \"**\", 0.1: \"*\"},\n",
    ")"
   ]
  },
  {
   "cell_type": "code",
   "execution_count": 11,
   "metadata": {},
   "outputs": [
    {
     "data": {
      "text/plain": [
       "Text(0.5, 1.0, 'Correlation Matrix')"
      ]
     },
     "execution_count": 11,
     "metadata": {},
     "output_type": "execute_result"
    },
    {
     "data": {
      "image/png": "[encoded data removed]",
      "text/plain": [
       "<Figure size 1000x500 with 2 Axes>"
      ]
     },
     "metadata": {},
     "output_type": "display_data"
    }
   ],
   "source": [
    "# Correlation Matrix visualization\n",
    "plt.figure(figsize=(10, 5), dpi=100)\n",
    "\n",
    "corr_matrix = df_student.select_dtypes(exclude=object).corr()\n",
    "\n",
    "ax = sns.heatmap(\n",
    "    data=corr_matrix,\n",
    "    cmap=\"coolwarm\",\n",
    "    center=0,\n",
    "    annot=corr_matrix.map(lambda x: f\"{x:.2%}\"),\n",
    "    fmt=\"\",\n",
    "    annot_kws={\"size\":10}\n",
    ")\n",
    "\n",
    "plt.title(\"Correlation Matrix\", fontsize=12)"
   ]
  },
  {
   "cell_type": "markdown",
   "metadata": {},
   "source": [
    "> * None of the explanatory variables exhibit a high degree of correlation with each other, indicating that the phenomenon of multicollinearity is unlikely to occur.\n",
    "\n",
    "> * All explanatory variables have a statistically significant association with the outcome variable `performance_index`, indicating that they will likely remain in the final model."
   ]
  },
  {
   "cell_type": "markdown",
   "metadata": {},
   "source": [
    "## OLS Model"
   ]
  },
  {
   "cell_type": "code",
   "execution_count": 12,
   "metadata": {},
   "outputs": [
    {
     "name": "stdout",
     "output_type": "stream",
     "text": [
      "performance_index ~ hours_studied + previous_scores + extracurricular_activities + sleep_hours + sample_question_papers_practiced\n"
     ]
    }
   ],
   "source": [
    "formula = get_formula(df_student, endog=\"performance_index\")\n",
    "\n",
    "print(formula)"
   ]
  },
  {
   "cell_type": "code",
   "execution_count": 13,
   "metadata": {},
   "outputs": [],
   "source": [
    "model = smf.ols(data=df_student, formula=formula).fit()"
   ]
  },
  {
   "cell_type": "markdown",
   "metadata": {},
   "source": [
    "> Obs.: Since `extracurricular_activities` is a qualitative variable with only two categories, the statsmodels algorithm will automatically apply the one-hot encoding procedure, with the `No` category set as reference."
   ]
  },
  {
   "cell_type": "code",
   "execution_count": 14,
   "metadata": {},
   "outputs": [
    {
     "data": {
      "text/html": [
       "<table class=\"simpletable\">\n",
       "<caption>OLS Regression Results</caption>\n",
       "<tr>\n",
       "  <th>Dep. Variable:</th>    <td>performance_index</td> <th>  R-squared:         </th> <td>   0.989</td> \n",
       "</tr>\n",
       "<tr>\n",
       "  <th>Model:</th>                   <td>OLS</td>        <th>  Adj. R-squared:    </th> <td>   0.989</td> \n",
       "</tr>\n",
       "<tr>\n",
       "  <th>Method:</th>             <td>Least Squares</td>   <th>  F-statistic:       </th> <td>1.757e+05</td>\n",
       "</tr>\n",
       "<tr>\n",
       "  <th>Date:</th>             <td>Mon, 25 Nov 2024</td>  <th>  Prob (F-statistic):</th>  <td>  0.00</td>  \n",
       "</tr>\n",
       "<tr>\n",
       "  <th>Time:</th>                 <td>20:39:26</td>      <th>  Log-Likelihood:    </th> <td> -21307.</td> \n",
       "</tr>\n",
       "<tr>\n",
       "  <th>No. Observations:</th>      <td> 10000</td>       <th>  AIC:               </th> <td>4.263e+04</td>\n",
       "</tr>\n",
       "<tr>\n",
       "  <th>Df Residuals:</th>          <td>  9994</td>       <th>  BIC:               </th> <td>4.267e+04</td>\n",
       "</tr>\n",
       "<tr>\n",
       "  <th>Df Model:</th>              <td>     5</td>       <th>                     </th>     <td> </td>    \n",
       "</tr>\n",
       "<tr>\n",
       "  <th>Covariance Type:</th>      <td>nonrobust</td>     <th>                     </th>     <td> </td>    \n",
       "</tr>\n",
       "</table>\n",
       "<table class=\"simpletable\">\n",
       "<tr>\n",
       "                  <td></td>                     <th>coef</th>     <th>std err</th>      <th>t</th>      <th>P>|t|</th>  <th>[0.025</th>    <th>0.975]</th>  \n",
       "</tr>\n",
       "<tr>\n",
       "  <th>Intercept</th>                         <td>  -34.0756</td> <td>    0.127</td> <td> -268.010</td> <td> 0.000</td> <td>  -34.325</td> <td>  -33.826</td>\n",
       "</tr>\n",
       "<tr>\n",
       "  <th>extracurricular_activities[T.Yes]</th> <td>    0.6129</td> <td>    0.041</td> <td>   15.029</td> <td> 0.000</td> <td>    0.533</td> <td>    0.693</td>\n",
       "</tr>\n",
       "<tr>\n",
       "  <th>hours_studied</th>                     <td>    2.8530</td> <td>    0.008</td> <td>  362.353</td> <td> 0.000</td> <td>    2.838</td> <td>    2.868</td>\n",
       "</tr>\n",
       "<tr>\n",
       "  <th>previous_scores</th>                   <td>    1.0184</td> <td>    0.001</td> <td>  866.450</td> <td> 0.000</td> <td>    1.016</td> <td>    1.021</td>\n",
       "</tr>\n",
       "<tr>\n",
       "  <th>sleep_hours</th>                       <td>    0.4806</td> <td>    0.012</td> <td>   39.972</td> <td> 0.000</td> <td>    0.457</td> <td>    0.504</td>\n",
       "</tr>\n",
       "<tr>\n",
       "  <th>sample_question_papers_practiced</th>  <td>    0.1938</td> <td>    0.007</td> <td>   27.257</td> <td> 0.000</td> <td>    0.180</td> <td>    0.208</td>\n",
       "</tr>\n",
       "</table>\n",
       "<table class=\"simpletable\">\n",
       "<tr>\n",
       "  <th>Omnibus:</th>       <td> 3.851</td> <th>  Durbin-Watson:     </th> <td>   2.001</td>\n",
       "</tr>\n",
       "<tr>\n",
       "  <th>Prob(Omnibus):</th> <td> 0.146</td> <th>  Jarque-Bera (JB):  </th> <td>   4.036</td>\n",
       "</tr>\n",
       "<tr>\n",
       "  <th>Skew:</th>          <td> 0.013</td> <th>  Prob(JB):          </th> <td>   0.133</td>\n",
       "</tr>\n",
       "<tr>\n",
       "  <th>Kurtosis:</th>      <td> 3.095</td> <th>  Cond. No.          </th> <td>    452.</td>\n",
       "</tr>\n",
       "</table><br/><br/>Notes:<br/>[1] Standard Errors assume that the covariance matrix of the errors is correctly specified."
      ],
      "text/latex": [
       "\\begin{center}\n",
       "\\begin{tabular}{lclc}\n",
       "\\toprule\n",
       "\\textbf{Dep. Variable:}                      & performance\\_index & \\textbf{  R-squared:         } &     0.989   \\\\\n",
       "\\textbf{Model:}                              &        OLS         & \\textbf{  Adj. R-squared:    } &     0.989   \\\\\n",
       "\\textbf{Method:}                             &   Least Squares    & \\textbf{  F-statistic:       } & 1.757e+05   \\\\\n",
       "\\textbf{Date:}                               &  Mon, 25 Nov 2024  & \\textbf{  Prob (F-statistic):} &     0.00    \\\\\n",
       "\\textbf{Time:}                               &      20:39:26      & \\textbf{  Log-Likelihood:    } &   -21307.   \\\\\n",
       "\\textbf{No. Observations:}                   &        10000       & \\textbf{  AIC:               } & 4.263e+04   \\\\\n",
       "\\textbf{Df Residuals:}                       &         9994       & \\textbf{  BIC:               } & 4.267e+04   \\\\\n",
       "\\textbf{Df Model:}                           &            5       & \\textbf{                     } &             \\\\\n",
       "\\textbf{Covariance Type:}                    &     nonrobust      & \\textbf{                     } &             \\\\\n",
       "\\bottomrule\n",
       "\\end{tabular}\n",
       "\\begin{tabular}{lcccccc}\n",
       "                                             & \\textbf{coef} & \\textbf{std err} & \\textbf{t} & \\textbf{P$> |$t$|$} & \\textbf{[0.025} & \\textbf{0.975]}  \\\\\n",
       "\\midrule\n",
       "\\textbf{Intercept}                           &     -34.0756  &        0.127     &  -268.010  &         0.000        &      -34.325    &      -33.826     \\\\\n",
       "\\textbf{extracurricular\\_activities[T.Yes]}  &       0.6129  &        0.041     &    15.029  &         0.000        &        0.533    &        0.693     \\\\\n",
       "\\textbf{hours\\_studied}                      &       2.8530  &        0.008     &   362.353  &         0.000        &        2.838    &        2.868     \\\\\n",
       "\\textbf{previous\\_scores}                    &       1.0184  &        0.001     &   866.450  &         0.000        &        1.016    &        1.021     \\\\\n",
       "\\textbf{sleep\\_hours}                        &       0.4806  &        0.012     &    39.972  &         0.000        &        0.457    &        0.504     \\\\\n",
       "\\textbf{sample\\_question\\_papers\\_practiced} &       0.1938  &        0.007     &    27.257  &         0.000        &        0.180    &        0.208     \\\\\n",
       "\\bottomrule\n",
       "\\end{tabular}\n",
       "\\begin{tabular}{lclc}\n",
       "\\textbf{Omnibus:}       &  3.851 & \\textbf{  Durbin-Watson:     } &    2.001  \\\\\n",
       "\\textbf{Prob(Omnibus):} &  0.146 & \\textbf{  Jarque-Bera (JB):  } &    4.036  \\\\\n",
       "\\textbf{Skew:}          &  0.013 & \\textbf{  Prob(JB):          } &    0.133  \\\\\n",
       "\\textbf{Kurtosis:}      &  3.095 & \\textbf{  Cond. No.          } &     452.  \\\\\n",
       "\\bottomrule\n",
       "\\end{tabular}\n",
       "%\\caption{OLS Regression Results}\n",
       "\\end{center}\n",
       "\n",
       "Notes: \\newline\n",
       " [1] Standard Errors assume that the covariance matrix of the errors is correctly specified."
      ],
      "text/plain": [
       "<class 'statsmodels.iolib.summary.Summary'>\n",
       "\"\"\"\n",
       "                            OLS Regression Results                            \n",
       "==============================================================================\n",
       "Dep. Variable:      performance_index   R-squared:                       0.989\n",
       "Model:                            OLS   Adj. R-squared:                  0.989\n",
       "Method:                 Least Squares   F-statistic:                 1.757e+05\n",
       "Date:                Mon, 25 Nov 2024   Prob (F-statistic):               0.00\n",
       "Time:                        20:39:26   Log-Likelihood:                -21307.\n",
       "No. Observations:               10000   AIC:                         4.263e+04\n",
       "Df Residuals:                    9994   BIC:                         4.267e+04\n",
       "Df Model:                           5                                         \n",
       "Covariance Type:            nonrobust                                         \n",
       "=====================================================================================================\n",
       "                                        coef    std err          t      P>|t|      [0.025      0.975]\n",
       "-----------------------------------------------------------------------------------------------------\n",
       "Intercept                           -34.0756      0.127   -268.010      0.000     -34.325     -33.826\n",
       "extracurricular_activities[T.Yes]     0.6129      0.041     15.029      0.000       0.533       0.693\n",
       "hours_studied                         2.8530      0.008    362.353      0.000       2.838       2.868\n",
       "previous_scores                       1.0184      0.001    866.450      0.000       1.016       1.021\n",
       "sleep_hours                           0.4806      0.012     39.972      0.000       0.457       0.504\n",
       "sample_question_papers_practiced      0.1938      0.007     27.257      0.000       0.180       0.208\n",
       "==============================================================================\n",
       "Omnibus:                        3.851   Durbin-Watson:                   2.001\n",
       "Prob(Omnibus):                  0.146   Jarque-Bera (JB):                4.036\n",
       "Skew:                           0.013   Prob(JB):                        0.133\n",
       "Kurtosis:                       3.095   Cond. No.                         452.\n",
       "==============================================================================\n",
       "\n",
       "Notes:\n",
       "[1] Standard Errors assume that the covariance matrix of the errors is correctly specified.\n",
       "\"\"\""
      ]
     },
     "execution_count": 14,
     "metadata": {},
     "output_type": "execute_result"
    }
   ],
   "source": [
    "model.summary()"
   ]
  },
  {
   "cell_type": "markdown",
   "metadata": {},
   "source": [
    "> * All explanatory variables are statistically significant, eliminating the need for the stepwise procedure."
   ]
  },
  {
   "cell_type": "markdown",
   "metadata": {},
   "source": [
    "## Diagnosis\n",
    "> - The lack of adherence to the normal distribution of model residuals significantly compromises the construction of confidence intervals with predictable purposes. Tests like the Shapiro-Francia provides a tool to validate adherence and the Box-Cox normalization technique can be very useful in improving the model's predictive capability"
   ]
  },
  {
   "cell_type": "code",
   "execution_count": null,
   "metadata": {},
   "outputs": [
    {
     "name": "stdout",
     "output_type": "stream",
     "text": [
      "method  :  Shapiro-Francia normality test\n",
      "statistics W  :  0.9997423432149402\n",
      "statistics z  :  0.9583455485066418\n",
      "p-value  :  0.1689442714333197\n",
      "----------\n",
      "H0: There is adherence to normality\n"
     ]
    }
   ],
   "source": [
    "# Test for Adherence to Normality of Residuals\n",
    "sf_test = shapiro_francia(model.resid)\n",
    "\n",
    "print(10*\"-\")\n",
    "\n",
    "if sf_test[\"p-value\"] > 0.05:\n",
    "    print(\"H0: There is adherence to normality\")\n",
    "else:\n",
    "    print(\"H1: There is no adherence to normality\")"
   ]
  },
  {
   "cell_type": "code",
   "execution_count": null,
   "metadata": {},
   "outputs": [
    {
     "data": {
      "text/plain": [
       "Text(0.5, 1.0, 'Model Residuals Distribution')"
      ]
     },
     "execution_count": 16,
     "metadata": {},
     "output_type": "execute_result"
    },
    {
     "data": {
      "image/png": "[encoded data removed]",
      "text/plain": [
       "<Figure size 1200x640 with 1 Axes>"
      ]
     },
     "metadata": {},
     "output_type": "display_data"
    }
   ],
   "source": [
    "# Visual comparison between normal distribution and residuals\n",
    "plt.figure(figsize=(15,8), dpi=80)\n",
    "\n",
    "sns.histplot(\n",
    "    data=model.resid,\n",
    "    bins=20,\n",
    "    color='silver',\n",
    "    kde=True,\n",
    "    stat=\"density\",\n",
    "    line_kws={\"label\":\"Resid\"}\n",
    ").lines[0].set_color(\"red\")\n",
    "\n",
    "mu, sigma = norm.fit(model.resid)\n",
    "\n",
    "x_norm = np.linspace(model.resid.min(), model.resid.max(), 100)\n",
    "\n",
    "y_norm = norm.pdf(x_norm, mu, sigma)\n",
    "\n",
    "plt.plot(\n",
    "    x_norm,\n",
    "    y_norm,\n",
    "    color='purple',\n",
    "    ls = '--',\n",
    "    label = \"Normal Fit\",\n",
    ")\n",
    "\n",
    "plt.legend()\n",
    "plt.title(\"Model Residuals Distribution\", size=15)"
   ]
  },
  {
   "cell_type": "markdown",
   "metadata": {},
   "source": [
    "> * The adherence to normality of the model residuals eliminates the need for applying the Box-Cox normalization."
   ]
  },
  {
   "cell_type": "markdown",
   "metadata": {},
   "source": [
    "## Results"
   ]
  },
  {
   "cell_type": "code",
   "execution_count": 17,
   "metadata": {},
   "outputs": [
    {
     "data": {
      "text/html": [
       "<table class=\"simpletable\">\n",
       "<tr>\n",
       "                  <td></td>                   <th>OLS Model</th> \n",
       "</tr>\n",
       "<tr>\n",
       "  <th>Intercept</th>                         <td>-34.0756***</td>\n",
       "</tr>\n",
       "<tr>\n",
       "  <th></th>                                   <td>(0.1271)</td>  \n",
       "</tr>\n",
       "<tr>\n",
       "  <th>extracurricular_activities[T.Yes]</th>  <td>0.6129***</td> \n",
       "</tr>\n",
       "<tr>\n",
       "  <th></th>                                   <td>(0.0408)</td>  \n",
       "</tr>\n",
       "<tr>\n",
       "  <th>hours_studied</th>                      <td>2.8530***</td> \n",
       "</tr>\n",
       "<tr>\n",
       "  <th></th>                                   <td>(0.0079)</td>  \n",
       "</tr>\n",
       "<tr>\n",
       "  <th>previous_scores</th>                    <td>1.0184***</td> \n",
       "</tr>\n",
       "<tr>\n",
       "  <th></th>                                   <td>(0.0012)</td>  \n",
       "</tr>\n",
       "<tr>\n",
       "  <th>sleep_hours</th>                        <td>0.4806***</td> \n",
       "</tr>\n",
       "<tr>\n",
       "  <th></th>                                   <td>(0.0120)</td>  \n",
       "</tr>\n",
       "<tr>\n",
       "  <th>sample_question_papers_practiced</th>   <td>0.1938***</td> \n",
       "</tr>\n",
       "<tr>\n",
       "  <th></th>                                   <td>(0.0071)</td>  \n",
       "</tr>\n",
       "<tr>\n",
       "  <th>R-squared</th>                           <td>0.9888</td>   \n",
       "</tr>\n",
       "<tr>\n",
       "  <th>R-squared Adj.</th>                      <td>0.9887</td>   \n",
       "</tr>\n",
       "</table><br/>\n",
       "Standard errors in parentheses.<br/>\n",
       "* p<.1, ** p<.05, ***p<.01"
      ],
      "text/latex": [
       "\\begin{table}\n",
       "\\caption{}\n",
       "\\label{}\n",
       "\\begin{center}\n",
       "\\begin{tabular}{ll}\n",
       "\\hline\n",
       "                                    & OLS Model    \\\\\n",
       "\\hline\n",
       "Intercept                           & -34.0756***  \\\\\n",
       "                                    & (0.1271)     \\\\\n",
       "extracurricular\\_activities[T.Yes]  & 0.6129***    \\\\\n",
       "                                    & (0.0408)     \\\\\n",
       "hours\\_studied                      & 2.8530***    \\\\\n",
       "                                    & (0.0079)     \\\\\n",
       "previous\\_scores                    & 1.0184***    \\\\\n",
       "                                    & (0.0012)     \\\\\n",
       "sleep\\_hours                        & 0.4806***    \\\\\n",
       "                                    & (0.0120)     \\\\\n",
       "sample\\_question\\_papers\\_practiced & 0.1938***    \\\\\n",
       "                                    & (0.0071)     \\\\\n",
       "R-squared                           & 0.9888       \\\\\n",
       "R-squared Adj.                      & 0.9887       \\\\\n",
       "\\hline\n",
       "\\end{tabular}\n",
       "\\end{center}\n",
       "\\end{table}\n",
       "\\bigskip\n",
       "Standard errors in parentheses. \\newline \n",
       "* p<.1, ** p<.05, ***p<.01"
      ],
      "text/plain": [
       "<class 'statsmodels.iolib.summary2.Summary'>\n",
       "\"\"\"\n",
       "\n",
       "=============================================\n",
       "                                   OLS Model \n",
       "---------------------------------------------\n",
       "Intercept                         -34.0756***\n",
       "                                  (0.1271)   \n",
       "extracurricular_activities[T.Yes] 0.6129***  \n",
       "                                  (0.0408)   \n",
       "hours_studied                     2.8530***  \n",
       "                                  (0.0079)   \n",
       "previous_scores                   1.0184***  \n",
       "                                  (0.0012)   \n",
       "sleep_hours                       0.4806***  \n",
       "                                  (0.0120)   \n",
       "sample_question_papers_practiced  0.1938***  \n",
       "                                  (0.0071)   \n",
       "R-squared                         0.9888     \n",
       "R-squared Adj.                    0.9887     \n",
       "=============================================\n",
       "Standard errors in parentheses.\n",
       "* p<.1, ** p<.05, ***p<.01\n",
       "\"\"\""
      ]
     },
     "execution_count": 17,
     "metadata": {},
     "output_type": "execute_result"
    }
   ],
   "source": [
    "summary_col(\n",
    "    results=[model],\n",
    "    model_names=[\"OLS Model\"],\n",
    "    stars=True,\n",
    "    include_r2=True\n",
    ")"
   ]
  },
  {
   "cell_type": "markdown",
   "metadata": {},
   "source": [
    "#### Conclusion\n",
    "> * An R-squared of 0.98 indicates a very high prediction capability, meaning we can expect the predicted values to be very close to the actual values presented in the DataFrame for `performance_index`.\n",
    "\n",
    "> * The two variables with the highest impact on `performance_index`, when increasing by one unit while keeping all others constant, are `hours_studied` and `previous_scores`.\n",
    "\n",
    "> * Analyzing the coefficient for `hours_studied` and keeping all other variables constant, it is estimated that each additional hour of study has an impact of 2.85 on the target variable `performance_index`.\n",
    "\n",
    "> * All explanatory variables have a positive impact on `performance_index` as they increase.\n",
    "\n",
    "> * The behavior of the `NO` category in `extracurricular_activities` is captured by the negative value of the intercept."
   ]
  },
  {
   "cell_type": "code",
   "execution_count": 18,
   "metadata": {},
   "outputs": [
    {
     "data": {
      "text/html": [
       "<div>\n",
       "<style scoped>\n",
       "    .dataframe tbody tr th:only-of-type {\n",
       "        vertical-align: middle;\n",
       "    }\n",
       "\n",
       "    .dataframe tbody tr th {\n",
       "        vertical-align: top;\n",
       "    }\n",
       "\n",
       "    .dataframe thead th {\n",
       "        text-align: right;\n",
       "    }\n",
       "</style>\n",
       "<table border=\"1\" class=\"dataframe\">\n",
       "  <thead>\n",
       "    <tr style=\"text-align: right;\">\n",
       "      <th></th>\n",
       "      <th>performance_index</th>\n",
       "      <th>performance_index_predict</th>\n",
       "      <th>resid</th>\n",
       "    </tr>\n",
       "  </thead>\n",
       "  <tbody>\n",
       "    <tr>\n",
       "      <th>0</th>\n",
       "      <td>91.0</td>\n",
       "      <td>91.852009</td>\n",
       "      <td>-0.852009</td>\n",
       "    </tr>\n",
       "    <tr>\n",
       "      <th>1</th>\n",
       "      <td>65.0</td>\n",
       "      <td>63.157787</td>\n",
       "      <td>1.842213</td>\n",
       "    </tr>\n",
       "    <tr>\n",
       "      <th>2</th>\n",
       "      <td>45.0</td>\n",
       "      <td>45.052832</td>\n",
       "      <td>-0.052832</td>\n",
       "    </tr>\n",
       "    <tr>\n",
       "      <th>3</th>\n",
       "      <td>36.0</td>\n",
       "      <td>36.551201</td>\n",
       "      <td>-0.551201</td>\n",
       "    </tr>\n",
       "    <tr>\n",
       "      <th>4</th>\n",
       "      <td>66.0</td>\n",
       "      <td>67.091339</td>\n",
       "      <td>-1.091339</td>\n",
       "    </tr>\n",
       "    <tr>\n",
       "      <th>...</th>\n",
       "      <td>...</td>\n",
       "      <td>...</td>\n",
       "      <td>...</td>\n",
       "    </tr>\n",
       "    <tr>\n",
       "      <th>9995</th>\n",
       "      <td>23.0</td>\n",
       "      <td>21.603410</td>\n",
       "      <td>1.396590</td>\n",
       "    </tr>\n",
       "    <tr>\n",
       "      <th>9996</th>\n",
       "      <td>58.0</td>\n",
       "      <td>56.501461</td>\n",
       "      <td>1.498539</td>\n",
       "    </tr>\n",
       "    <tr>\n",
       "      <th>9997</th>\n",
       "      <td>74.0</td>\n",
       "      <td>72.998729</td>\n",
       "      <td>1.001271</td>\n",
       "    </tr>\n",
       "    <tr>\n",
       "      <th>9998</th>\n",
       "      <td>95.0</td>\n",
       "      <td>94.366183</td>\n",
       "      <td>0.633817</td>\n",
       "    </tr>\n",
       "    <tr>\n",
       "      <th>9999</th>\n",
       "      <td>64.0</td>\n",
       "      <td>65.297697</td>\n",
       "      <td>-1.297697</td>\n",
       "    </tr>\n",
       "  </tbody>\n",
       "</table>\n",
       "<p>10000 rows × 3 columns</p>\n",
       "</div>"
      ],
      "text/plain": [
       "      performance_index  performance_index_predict     resid\n",
       "0                  91.0                  91.852009 -0.852009\n",
       "1                  65.0                  63.157787  1.842213\n",
       "2                  45.0                  45.052832 -0.052832\n",
       "3                  36.0                  36.551201 -0.551201\n",
       "4                  66.0                  67.091339 -1.091339\n",
       "...                 ...                        ...       ...\n",
       "9995               23.0                  21.603410  1.396590\n",
       "9996               58.0                  56.501461  1.498539\n",
       "9997               74.0                  72.998729  1.001271\n",
       "9998               95.0                  94.366183  0.633817\n",
       "9999               64.0                  65.297697 -1.297697\n",
       "\n",
       "[10000 rows x 3 columns]"
      ]
     },
     "execution_count": 18,
     "metadata": {},
     "output_type": "execute_result"
    }
   ],
   "source": [
    "# Visual comparison between actual values and predicted values provided by the OLS model\n",
    "df_student[[\"performance_index\"]].assign(performance_index_predict=model.predict(), resid=model.resid)"
   ]
  }
 ],
 "metadata": {
  "kernelspec": {
   "display_name": "analytics",
   "language": "python",
   "name": "python3"
  },
  "language_info": {
   "codemirror_mode": {
    "name": "ipython",
    "version": 3
   },
   "file_extension": ".py",
   "mimetype": "text/x-python",
   "name": "python",
   "nbconvert_exporter": "python",
   "pygments_lexer": "ipython3",
   "version": "3.12.4"
  }
 },
 "nbformat": 4,
 "nbformat_minor": 2
}
